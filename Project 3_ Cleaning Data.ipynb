{
 "cells": [
  {
   "cell_type": "markdown",
   "id": "78e22853-af9c-44cf-9a8a-69083daf67e2",
   "metadata": {},
   "source": [
    "## Project 3: Cleaning Data\n",
    "Author: Neha Tiwari"
   ]
  },
  {
   "cell_type": "markdown",
   "id": "bbfff551-9c9e-4ae9-b697-c2d7fed1fac4",
   "metadata": {},
   "source": [
    "**1. Import Libraries and Load Dataset**"
   ]
  },
  {
   "cell_type": "code",
   "execution_count": 1,
   "id": "e1f0ca48-a145-4da4-8a3a-f199c05b356d",
   "metadata": {},
   "outputs": [
    {
     "data": {
      "text/html": [
       "<div>\n",
       "<style scoped>\n",
       "    .dataframe tbody tr th:only-of-type {\n",
       "        vertical-align: middle;\n",
       "    }\n",
       "\n",
       "    .dataframe tbody tr th {\n",
       "        vertical-align: top;\n",
       "    }\n",
       "\n",
       "    .dataframe thead th {\n",
       "        text-align: right;\n",
       "    }\n",
       "</style>\n",
       "<table border=\"1\" class=\"dataframe\">\n",
       "  <thead>\n",
       "    <tr style=\"text-align: right;\">\n",
       "      <th></th>\n",
       "      <th>id</th>\n",
       "      <th>name</th>\n",
       "      <th>host_id</th>\n",
       "      <th>host_name</th>\n",
       "      <th>neighbourhood_group</th>\n",
       "      <th>neighbourhood</th>\n",
       "      <th>latitude</th>\n",
       "      <th>longitude</th>\n",
       "      <th>room_type</th>\n",
       "      <th>price</th>\n",
       "      <th>minimum_nights</th>\n",
       "      <th>number_of_reviews</th>\n",
       "      <th>last_review</th>\n",
       "      <th>reviews_per_month</th>\n",
       "      <th>calculated_host_listings_count</th>\n",
       "      <th>availability_365</th>\n",
       "    </tr>\n",
       "  </thead>\n",
       "  <tbody>\n",
       "    <tr>\n",
       "      <th>0</th>\n",
       "      <td>2539</td>\n",
       "      <td>Clean &amp; quiet apt home by the park</td>\n",
       "      <td>2787</td>\n",
       "      <td>John</td>\n",
       "      <td>Brooklyn</td>\n",
       "      <td>Kensington</td>\n",
       "      <td>40.64749</td>\n",
       "      <td>-73.97237</td>\n",
       "      <td>Private room</td>\n",
       "      <td>149</td>\n",
       "      <td>1</td>\n",
       "      <td>9</td>\n",
       "      <td>2018-10-19</td>\n",
       "      <td>0.21</td>\n",
       "      <td>6</td>\n",
       "      <td>365</td>\n",
       "    </tr>\n",
       "    <tr>\n",
       "      <th>1</th>\n",
       "      <td>2595</td>\n",
       "      <td>Skylit Midtown Castle</td>\n",
       "      <td>2845</td>\n",
       "      <td>Jennifer</td>\n",
       "      <td>Manhattan</td>\n",
       "      <td>Midtown</td>\n",
       "      <td>40.75362</td>\n",
       "      <td>-73.98377</td>\n",
       "      <td>Entire home/apt</td>\n",
       "      <td>225</td>\n",
       "      <td>1</td>\n",
       "      <td>45</td>\n",
       "      <td>2019-05-21</td>\n",
       "      <td>0.38</td>\n",
       "      <td>2</td>\n",
       "      <td>355</td>\n",
       "    </tr>\n",
       "    <tr>\n",
       "      <th>2</th>\n",
       "      <td>3647</td>\n",
       "      <td>THE VILLAGE OF HARLEM....NEW YORK !</td>\n",
       "      <td>4632</td>\n",
       "      <td>Elisabeth</td>\n",
       "      <td>Manhattan</td>\n",
       "      <td>Harlem</td>\n",
       "      <td>40.80902</td>\n",
       "      <td>-73.94190</td>\n",
       "      <td>Private room</td>\n",
       "      <td>150</td>\n",
       "      <td>3</td>\n",
       "      <td>0</td>\n",
       "      <td>NaN</td>\n",
       "      <td>NaN</td>\n",
       "      <td>1</td>\n",
       "      <td>365</td>\n",
       "    </tr>\n",
       "    <tr>\n",
       "      <th>3</th>\n",
       "      <td>3831</td>\n",
       "      <td>Cozy Entire Floor of Brownstone</td>\n",
       "      <td>4869</td>\n",
       "      <td>LisaRoxanne</td>\n",
       "      <td>Brooklyn</td>\n",
       "      <td>Clinton Hill</td>\n",
       "      <td>40.68514</td>\n",
       "      <td>-73.95976</td>\n",
       "      <td>Entire home/apt</td>\n",
       "      <td>89</td>\n",
       "      <td>1</td>\n",
       "      <td>270</td>\n",
       "      <td>2019-07-05</td>\n",
       "      <td>4.64</td>\n",
       "      <td>1</td>\n",
       "      <td>194</td>\n",
       "    </tr>\n",
       "    <tr>\n",
       "      <th>4</th>\n",
       "      <td>5022</td>\n",
       "      <td>Entire Apt: Spacious Studio/Loft by central park</td>\n",
       "      <td>7192</td>\n",
       "      <td>Laura</td>\n",
       "      <td>Manhattan</td>\n",
       "      <td>East Harlem</td>\n",
       "      <td>40.79851</td>\n",
       "      <td>-73.94399</td>\n",
       "      <td>Entire home/apt</td>\n",
       "      <td>80</td>\n",
       "      <td>10</td>\n",
       "      <td>9</td>\n",
       "      <td>2018-11-19</td>\n",
       "      <td>0.10</td>\n",
       "      <td>1</td>\n",
       "      <td>0</td>\n",
       "    </tr>\n",
       "  </tbody>\n",
       "</table>\n",
       "</div>"
      ],
      "text/plain": [
       "     id                                              name  host_id  \\\n",
       "0  2539                Clean & quiet apt home by the park     2787   \n",
       "1  2595                             Skylit Midtown Castle     2845   \n",
       "2  3647               THE VILLAGE OF HARLEM....NEW YORK !     4632   \n",
       "3  3831                   Cozy Entire Floor of Brownstone     4869   \n",
       "4  5022  Entire Apt: Spacious Studio/Loft by central park     7192   \n",
       "\n",
       "     host_name neighbourhood_group neighbourhood  latitude  longitude  \\\n",
       "0         John            Brooklyn    Kensington  40.64749  -73.97237   \n",
       "1     Jennifer           Manhattan       Midtown  40.75362  -73.98377   \n",
       "2    Elisabeth           Manhattan        Harlem  40.80902  -73.94190   \n",
       "3  LisaRoxanne            Brooklyn  Clinton Hill  40.68514  -73.95976   \n",
       "4        Laura           Manhattan   East Harlem  40.79851  -73.94399   \n",
       "\n",
       "         room_type  price  minimum_nights  number_of_reviews last_review  \\\n",
       "0     Private room    149               1                  9  2018-10-19   \n",
       "1  Entire home/apt    225               1                 45  2019-05-21   \n",
       "2     Private room    150               3                  0         NaN   \n",
       "3  Entire home/apt     89               1                270  2019-07-05   \n",
       "4  Entire home/apt     80              10                  9  2018-11-19   \n",
       "\n",
       "   reviews_per_month  calculated_host_listings_count  availability_365  \n",
       "0               0.21                               6               365  \n",
       "1               0.38                               2               355  \n",
       "2                NaN                               1               365  \n",
       "3               4.64                               1               194  \n",
       "4               0.10                               1                 0  "
      ]
     },
     "execution_count": 1,
     "metadata": {},
     "output_type": "execute_result"
    }
   ],
   "source": [
    "import pandas as pd\n",
    "import numpy as np\n",
    "import matplotlib.pyplot as plt\n",
    "import seaborn as sns\n",
    "\n",
    "# Load the dataset\n",
    "df = pd.read_csv(\"AB_NYC_2019.csv\")  # Load the dataset\n",
    "df.head()\n"
   ]
  },
  {
   "cell_type": "markdown",
   "id": "ff5d95fa-950f-4a07-bdfd-346ba80e04d0",
   "metadata": {},
   "source": [
    "**2. Initial Data Exploration**"
   ]
  },
  {
   "cell_type": "code",
   "execution_count": 2,
   "id": "aa8c2958-bfd2-428d-9f03-8dfef0e8887a",
   "metadata": {},
   "outputs": [
    {
     "name": "stdout",
     "output_type": "stream",
     "text": [
      "<class 'pandas.core.frame.DataFrame'>\n",
      "RangeIndex: 48895 entries, 0 to 48894\n",
      "Data columns (total 16 columns):\n",
      " #   Column                          Non-Null Count  Dtype  \n",
      "---  ------                          --------------  -----  \n",
      " 0   id                              48895 non-null  int64  \n",
      " 1   name                            48879 non-null  object \n",
      " 2   host_id                         48895 non-null  int64  \n",
      " 3   host_name                       48874 non-null  object \n",
      " 4   neighbourhood_group             48895 non-null  object \n",
      " 5   neighbourhood                   48895 non-null  object \n",
      " 6   latitude                        48895 non-null  float64\n",
      " 7   longitude                       48895 non-null  float64\n",
      " 8   room_type                       48895 non-null  object \n",
      " 9   price                           48895 non-null  int64  \n",
      " 10  minimum_nights                  48895 non-null  int64  \n",
      " 11  number_of_reviews               48895 non-null  int64  \n",
      " 12  last_review                     38843 non-null  object \n",
      " 13  reviews_per_month               38843 non-null  float64\n",
      " 14  calculated_host_listings_count  48895 non-null  int64  \n",
      " 15  availability_365                48895 non-null  int64  \n",
      "dtypes: float64(3), int64(7), object(6)\n",
      "memory usage: 6.0+ MB\n"
     ]
    },
    {
     "data": {
      "text/plain": [
       "Index(['id', 'name', 'host_id', 'host_name', 'neighbourhood_group',\n",
       "       'neighbourhood', 'latitude', 'longitude', 'room_type', 'price',\n",
       "       'minimum_nights', 'number_of_reviews', 'last_review',\n",
       "       'reviews_per_month', 'calculated_host_listings_count',\n",
       "       'availability_365'],\n",
       "      dtype='object')"
      ]
     },
     "execution_count": 2,
     "metadata": {},
     "output_type": "execute_result"
    }
   ],
   "source": [
    "# Check data types and non-null counts\n",
    "df.info()\n",
    "\n",
    "# Summary statistics\n",
    "df.describe()\n",
    "\n",
    "# Check column names\n",
    "df.columns\n"
   ]
  },
  {
   "cell_type": "markdown",
   "id": "49f11bda-1c76-4383-ad66-2a1639976338",
   "metadata": {},
   "source": [
    "**3. Identify Missing Values**"
   ]
  },
  {
   "cell_type": "code",
   "execution_count": 3,
   "id": "49a7a9da-0747-46c3-b712-d3bd49f6d872",
   "metadata": {},
   "outputs": [
    {
     "data": {
      "image/png": "[encoded data removed]",
      "text/plain": [
       "<Figure size 640x480 with 1 Axes>"
      ]
     },
     "metadata": {},
     "output_type": "display_data"
    }
   ],
   "source": [
    "# Count missing values per column\n",
    "df.isnull().sum()\n",
    "\n",
    "# Visualize missing data\n",
    "sns.heatmap(df.isnull(), cbar=False, cmap='Reds')\n",
    "plt.title(\"Missing Values Heatmap\")\n",
    "plt.show()\n"
   ]
  },
  {
   "cell_type": "markdown",
   "id": "6558d10d-9b65-41bf-bef8-59c7d63c5ecb",
   "metadata": {},
   "source": [
    "**4. Handle Missing Values**"
   ]
  },
  {
   "cell_type": "code",
   "execution_count": 5,
   "id": "b8417f00-5c23-43d3-b911-ddf51fc683f6",
   "metadata": {},
   "outputs": [],
   "source": [
    "# Drop columns with more than 50% missing values\n",
    "df = df.loc[:, df.isnull().mean() < 0.5]\n",
    "\n",
    "# Fill numeric missing values with median\n",
    "df.fillna(df.median(numeric_only=True), inplace=True)\n",
    "\n",
    "# Fill categorical missing values with mode\n",
    "for col in df.select_dtypes(include='object').columns:\n",
    "    df[col] = df[col].fillna(df[col].mode()[0])\n"
   ]
  },
  {
   "cell_type": "markdown",
   "id": "3a05aab8-07cb-4e41-8470-0c7f45f55c49",
   "metadata": {},
   "source": [
    "**5. Remove Duplicates**"
   ]
  },
  {
   "cell_type": "code",
   "execution_count": 6,
   "id": "21de34c6-14ab-47ca-bddc-341b24301784",
   "metadata": {},
   "outputs": [],
   "source": [
    "# Check for duplicates\n",
    "df.duplicated().sum()\n",
    "\n",
    "# Remove duplicates\n",
    "df = df.drop_duplicates()\n"
   ]
  },
  {
   "cell_type": "markdown",
   "id": "09be81fb-040d-4606-92eb-155000d08c72",
   "metadata": {},
   "source": [
    "**6. Standardize Formats**"
   ]
  },
  {
   "cell_type": "code",
   "execution_count": 16,
   "id": "f279d12d-462b-479d-94ff-0298cd3ff2a9",
   "metadata": {},
   "outputs": [],
   "source": [
    "# Rename columns for consistency\n",
    "df.columns = df.columns.str.strip().str.lower().str.replace(' ', '_')\n",
    "\n",
    "# Lowercase string columns (like 'room_type', 'host_name', etc.)\n",
    "df['room_type'] = df['room_type'].str.lower()\n",
    "df['host_name'] = df['host_name'].str.lower()\n",
    "\n",
    "\n"
   ]
  },
  {
   "cell_type": "markdown",
   "id": "81770ee1-5a97-4460-b915-0176de8f3019",
   "metadata": {},
   "source": [
    "**6. Detect Outliers in Price**\n"
   ]
  },
  {
   "cell_type": "code",
   "execution_count": 13,
   "id": "7c2a08f6-9af7-43b7-a4bd-24f1c20d66f8",
   "metadata": {},
   "outputs": [
    {
     "data": {
      "image/png": "[encoded data removed]",
      "text/plain": [
       "<Figure size 640x480 with 1 Axes>"
      ]
     },
     "metadata": {},
     "output_type": "display_data"
    }
   ],
   "source": [
    "# Boxplot for price\n",
    "sns.boxplot(x=df['price'])\n",
    "plt.title(\"Price Outliers\")\n",
    "plt.show()\n",
    "\n",
    "# Remove extreme outliers (e.g., price > $1000)\n",
    "df = df[df['price'] <= 1000].copy()\n"
   ]
  },
  {
   "cell_type": "markdown",
   "id": "669934dd-5b9f-4f57-b07a-fd4535684b6a",
   "metadata": {},
   "source": [
    "**7. Convert and Validate Data Types**"
   ]
  },
  {
   "cell_type": "code",
   "execution_count": 14,
   "id": "01c7cd9a-23f6-46e3-916f-a319d6521e13",
   "metadata": {},
   "outputs": [],
   "source": [
    "# Convert 'last_review' to datetime again if needed\n",
    "df['last_review'] = pd.to_datetime(df['last_review'], errors='coerce')\n",
    "\n",
    "# Ensure numeric types\n",
    "df['reviews_per_month'] = pd.to_numeric(df['reviews_per_month'], errors='coerce')\n"
   ]
  },
  {
   "cell_type": "markdown",
   "id": "c4c001fa-c55f-406c-9a71-9faa4db2b832",
   "metadata": {},
   "source": [
    "**8. Save Cleaned Data**"
   ]
  },
  {
   "cell_type": "code",
   "execution_count": 15,
   "id": "ec3ba6f0-2f1d-40d4-a21e-37506d10c4c2",
   "metadata": {},
   "outputs": [
    {
     "name": "stdout",
     "output_type": "stream",
     "text": [
      "Final dataset shape: (48656, 16)\n"
     ]
    }
   ],
   "source": [
    "# Final shape\n",
    "print(\"Final dataset shape:\", df.shape)\n",
    "\n",
    "# Save cleaned dataset\n",
    "df.to_csv(\"cleaned_airbnb_data.csv\", index=False)\n"
   ]
  },
  {
   "cell_type": "markdown",
   "id": "7a8ccda6-8ba9-4852-a8cf-c8ab2f9fabeb",
   "metadata": {},
   "source": [
    "## 📌 Data Cleaning Summary & Insights\n",
    "\n",
    "- ✅ Removed **duplicate entries** to ensure data integrity and prevent double-counting.\n",
    "- ✅ Handled missing values:\n",
    "  - Filled `reviews_per_month` with **0** where review data was missing, assuming no reviews.\n",
    "  - Converted `last_review` to datetime format and left missing values as `NaT`.\n",
    "- ✅ Standardized text columns (e.g., `room_type`, `host_name`) to **lowercase** for consistency.\n",
    "- ✅ Dropped extreme price outliers (listings with `price > 1000`) to reduce skewness in analysis.\n",
    "- ✅ Renamed column headers to **snake_case** for better code readability.\n",
    "- ✅ Ensured correct data types for numerical and date fields using `pd.to_numeric()` and `pd.to_datetime()`.\n",
    "\n",
    "### 🧠 Ready for Analysis!\n",
    "The dataset is now:\n",
    "- Cleaned and consistent\n",
    "- Free from critical missing or incorrect values\n",
    "- Well-structured for Exploratory Data Analysis (EDA) and Visualization\n"
   ]
  },
  {
   "cell_type": "code",
   "execution_count": null,
   "id": "96e62979-2a43-4595-80dd-43497c0527c2",
   "metadata": {},
   "outputs": [],
   "source": []
  }
 ],
 "metadata": {
  "kernelspec": {
   "display_name": "Python 3 (ipykernel)",
   "language": "python",
   "name": "python3"
  },
  "language_info": {
   "codemirror_mode": {
    "name": "ipython",
    "version": 3
   },
   "file_extension": ".py",
   "mimetype": "text/x-python",
   "name": "python",
   "nbconvert_exporter": "python",
   "pygments_lexer": "ipython3",
   "version": "3.12.7"
  }
 },
 "nbformat": 4,
 "nbformat_minor": 5
}
